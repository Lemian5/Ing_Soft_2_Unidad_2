{
  "cells": [
    {
      "cell_type": "markdown",
      "metadata": {
        "id": "view-in-github",
        "colab_type": "text"
      },
      "source": [
        "<a href=\"https://colab.research.google.com/github/Lemian5/Ing_Soft_2_Unidad_2/blob/main/Trabajo_Final_(60_.ipynb\" target=\"_parent\"><img src=\"https://colab.research.google.com/assets/colab-badge.svg\" alt=\"Open In Colab\"/></a>"
      ]
    },
    {
      "cell_type": "markdown",
      "source": [],
      "metadata": {
        "id": "Z1IXvRcQ6Uk4"
      }
    },
    {
      "cell_type": "code",
      "execution_count": null,
      "metadata": {
        "id": "ZmB3iwm28CnG"
      },
      "outputs": [],
      "source": [
        "# LIBRERIAS\n",
        "\n",
        "import pandas as pd\n",
        "import numpy as np\n",
        "import matplotlib.pyplot as plt"
      ]
    },
    {
      "cell_type": "code",
      "execution_count": null,
      "metadata": {
        "id": "jr113JzX8Gdy",
        "colab": {
          "base_uri": "https://localhost:8080/",
          "height": 344
        },
        "outputId": "96b53c9e-815c-415b-af13-9b8f46962a07"
      },
      "outputs": [
        {
          "output_type": "display_data",
          "data": {
            "text/plain": [
              "<IPython.core.display.HTML object>"
            ],
            "text/html": [
              "\n",
              "     <input type=\"file\" id=\"files-b24867db-29e2-46b3-acb3-056b4ab7a3bf\" name=\"files[]\" multiple disabled\n",
              "        style=\"border:none\" />\n",
              "     <output id=\"result-b24867db-29e2-46b3-acb3-056b4ab7a3bf\">\n",
              "      Upload widget is only available when the cell has been executed in the\n",
              "      current browser session. Please rerun this cell to enable.\n",
              "      </output>\n",
              "      <script>// Copyright 2017 Google LLC\n",
              "//\n",
              "// Licensed under the Apache License, Version 2.0 (the \"License\");\n",
              "// you may not use this file except in compliance with the License.\n",
              "// You may obtain a copy of the License at\n",
              "//\n",
              "//      http://www.apache.org/licenses/LICENSE-2.0\n",
              "//\n",
              "// Unless required by applicable law or agreed to in writing, software\n",
              "// distributed under the License is distributed on an \"AS IS\" BASIS,\n",
              "// WITHOUT WARRANTIES OR CONDITIONS OF ANY KIND, either express or implied.\n",
              "// See the License for the specific language governing permissions and\n",
              "// limitations under the License.\n",
              "\n",
              "/**\n",
              " * @fileoverview Helpers for google.colab Python module.\n",
              " */\n",
              "(function(scope) {\n",
              "function span(text, styleAttributes = {}) {\n",
              "  const element = document.createElement('span');\n",
              "  element.textContent = text;\n",
              "  for (const key of Object.keys(styleAttributes)) {\n",
              "    element.style[key] = styleAttributes[key];\n",
              "  }\n",
              "  return element;\n",
              "}\n",
              "\n",
              "// Max number of bytes which will be uploaded at a time.\n",
              "const MAX_PAYLOAD_SIZE = 100 * 1024;\n",
              "\n",
              "function _uploadFiles(inputId, outputId) {\n",
              "  const steps = uploadFilesStep(inputId, outputId);\n",
              "  const outputElement = document.getElementById(outputId);\n",
              "  // Cache steps on the outputElement to make it available for the next call\n",
              "  // to uploadFilesContinue from Python.\n",
              "  outputElement.steps = steps;\n",
              "\n",
              "  return _uploadFilesContinue(outputId);\n",
              "}\n",
              "\n",
              "// This is roughly an async generator (not supported in the browser yet),\n",
              "// where there are multiple asynchronous steps and the Python side is going\n",
              "// to poll for completion of each step.\n",
              "// This uses a Promise to block the python side on completion of each step,\n",
              "// then passes the result of the previous step as the input to the next step.\n",
              "function _uploadFilesContinue(outputId) {\n",
              "  const outputElement = document.getElementById(outputId);\n",
              "  const steps = outputElement.steps;\n",
              "\n",
              "  const next = steps.next(outputElement.lastPromiseValue);\n",
              "  return Promise.resolve(next.value.promise).then((value) => {\n",
              "    // Cache the last promise value to make it available to the next\n",
              "    // step of the generator.\n",
              "    outputElement.lastPromiseValue = value;\n",
              "    return next.value.response;\n",
              "  });\n",
              "}\n",
              "\n",
              "/**\n",
              " * Generator function which is called between each async step of the upload\n",
              " * process.\n",
              " * @param {string} inputId Element ID of the input file picker element.\n",
              " * @param {string} outputId Element ID of the output display.\n",
              " * @return {!Iterable<!Object>} Iterable of next steps.\n",
              " */\n",
              "function* uploadFilesStep(inputId, outputId) {\n",
              "  const inputElement = document.getElementById(inputId);\n",
              "  inputElement.disabled = false;\n",
              "\n",
              "  const outputElement = document.getElementById(outputId);\n",
              "  outputElement.innerHTML = '';\n",
              "\n",
              "  const pickedPromise = new Promise((resolve) => {\n",
              "    inputElement.addEventListener('change', (e) => {\n",
              "      resolve(e.target.files);\n",
              "    });\n",
              "  });\n",
              "\n",
              "  const cancel = document.createElement('button');\n",
              "  inputElement.parentElement.appendChild(cancel);\n",
              "  cancel.textContent = 'Cancel upload';\n",
              "  const cancelPromise = new Promise((resolve) => {\n",
              "    cancel.onclick = () => {\n",
              "      resolve(null);\n",
              "    };\n",
              "  });\n",
              "\n",
              "  // Wait for the user to pick the files.\n",
              "  const files = yield {\n",
              "    promise: Promise.race([pickedPromise, cancelPromise]),\n",
              "    response: {\n",
              "      action: 'starting',\n",
              "    }\n",
              "  };\n",
              "\n",
              "  cancel.remove();\n",
              "\n",
              "  // Disable the input element since further picks are not allowed.\n",
              "  inputElement.disabled = true;\n",
              "\n",
              "  if (!files) {\n",
              "    return {\n",
              "      response: {\n",
              "        action: 'complete',\n",
              "      }\n",
              "    };\n",
              "  }\n",
              "\n",
              "  for (const file of files) {\n",
              "    const li = document.createElement('li');\n",
              "    li.append(span(file.name, {fontWeight: 'bold'}));\n",
              "    li.append(span(\n",
              "        `(${file.type || 'n/a'}) - ${file.size} bytes, ` +\n",
              "        `last modified: ${\n",
              "            file.lastModifiedDate ? file.lastModifiedDate.toLocaleDateString() :\n",
              "                                    'n/a'} - `));\n",
              "    const percent = span('0% done');\n",
              "    li.appendChild(percent);\n",
              "\n",
              "    outputElement.appendChild(li);\n",
              "\n",
              "    const fileDataPromise = new Promise((resolve) => {\n",
              "      const reader = new FileReader();\n",
              "      reader.onload = (e) => {\n",
              "        resolve(e.target.result);\n",
              "      };\n",
              "      reader.readAsArrayBuffer(file);\n",
              "    });\n",
              "    // Wait for the data to be ready.\n",
              "    let fileData = yield {\n",
              "      promise: fileDataPromise,\n",
              "      response: {\n",
              "        action: 'continue',\n",
              "      }\n",
              "    };\n",
              "\n",
              "    // Use a chunked sending to avoid message size limits. See b/62115660.\n",
              "    let position = 0;\n",
              "    do {\n",
              "      const length = Math.min(fileData.byteLength - position, MAX_PAYLOAD_SIZE);\n",
              "      const chunk = new Uint8Array(fileData, position, length);\n",
              "      position += length;\n",
              "\n",
              "      const base64 = btoa(String.fromCharCode.apply(null, chunk));\n",
              "      yield {\n",
              "        response: {\n",
              "          action: 'append',\n",
              "          file: file.name,\n",
              "          data: base64,\n",
              "        },\n",
              "      };\n",
              "\n",
              "      let percentDone = fileData.byteLength === 0 ?\n",
              "          100 :\n",
              "          Math.round((position / fileData.byteLength) * 100);\n",
              "      percent.textContent = `${percentDone}% done`;\n",
              "\n",
              "    } while (position < fileData.byteLength);\n",
              "  }\n",
              "\n",
              "  // All done.\n",
              "  yield {\n",
              "    response: {\n",
              "      action: 'complete',\n",
              "    }\n",
              "  };\n",
              "}\n",
              "\n",
              "scope.google = scope.google || {};\n",
              "scope.google.colab = scope.google.colab || {};\n",
              "scope.google.colab._files = {\n",
              "  _uploadFiles,\n",
              "  _uploadFilesContinue,\n",
              "};\n",
              "})(self);\n",
              "</script> "
            ]
          },
          "metadata": {}
        },
        {
          "output_type": "stream",
          "name": "stdout",
          "text": [
            "Saving Desminar.csv to Desminar.csv\n"
          ]
        },
        {
          "output_type": "execute_result",
          "data": {
            "text/plain": [
              "  departamento  codigodanedepartamento    municipio  codigodanemunicipio  \\\n",
              "0        CAUCA                      19       CALOTO                19142   \n",
              "1         META                      50  LA MACARENA                50350   \n",
              "2    SANTANDER                      68     SIMACOTA                68745   \n",
              "3        SUCRE                      70        SUCRE                70771   \n",
              "4    ANTIOQUIA                       5      GRANADA                 5313   \n",
              "\n",
              "    año  mes tipodesminado  areadespejada  map   muse  aei  \\\n",
              "0  2018    4   Comunidades            NaN  NaN    0.0  0.0   \n",
              "1  2019    9   Comunidades         1563.0  0.0  148.0  NaN   \n",
              "2  2020    7   Comunidades         6499.0  NaN    0.0  NaN   \n",
              "3  2019    7   Comunidades            0.0  0.0    0.0  0.0   \n",
              "4  2015    3   Comunidades         7786.0  1.0    0.0  0.0   \n",
              "\n",
              "   totalartefactosdestruidos organizacion  estudiosnotecnicos  \\\n",
              "0                        0.0           HI                   3   \n",
              "1                      148.0        BRDEH                   0   \n",
              "2                        0.0        BRDEH                   0   \n",
              "3                        0.0        BRDEH                   1   \n",
              "4                        1.0        BRDEH                   7   \n",
              "\n",
              "   estudiostecnicos  operacionesdespeje  areaspeligrosas  \\\n",
              "0                 0                   0                0   \n",
              "1                 0                   1                0   \n",
              "2                 0                   1                0   \n",
              "3                 0                   0                0   \n",
              "4                 1                   1                0   \n",
              "\n",
              "   areaspeligrosasconfirmadas  \n",
              "0                           0  \n",
              "1                           0  \n",
              "2                           0  \n",
              "3                           0  \n",
              "4                           0  "
            ],
            "text/html": [
              "\n",
              "  <div id=\"df-06b34927-ac08-445c-8f4a-e9548238bfb8\">\n",
              "    <div class=\"colab-df-container\">\n",
              "      <div>\n",
              "<style scoped>\n",
              "    .dataframe tbody tr th:only-of-type {\n",
              "        vertical-align: middle;\n",
              "    }\n",
              "\n",
              "    .dataframe tbody tr th {\n",
              "        vertical-align: top;\n",
              "    }\n",
              "\n",
              "    .dataframe thead th {\n",
              "        text-align: right;\n",
              "    }\n",
              "</style>\n",
              "<table border=\"1\" class=\"dataframe\">\n",
              "  <thead>\n",
              "    <tr style=\"text-align: right;\">\n",
              "      <th></th>\n",
              "      <th>departamento</th>\n",
              "      <th>codigodanedepartamento</th>\n",
              "      <th>municipio</th>\n",
              "      <th>codigodanemunicipio</th>\n",
              "      <th>año</th>\n",
              "      <th>mes</th>\n",
              "      <th>tipodesminado</th>\n",
              "      <th>areadespejada</th>\n",
              "      <th>map</th>\n",
              "      <th>muse</th>\n",
              "      <th>aei</th>\n",
              "      <th>totalartefactosdestruidos</th>\n",
              "      <th>organizacion</th>\n",
              "      <th>estudiosnotecnicos</th>\n",
              "      <th>estudiostecnicos</th>\n",
              "      <th>operacionesdespeje</th>\n",
              "      <th>areaspeligrosas</th>\n",
              "      <th>areaspeligrosasconfirmadas</th>\n",
              "    </tr>\n",
              "  </thead>\n",
              "  <tbody>\n",
              "    <tr>\n",
              "      <th>0</th>\n",
              "      <td>CAUCA</td>\n",
              "      <td>19</td>\n",
              "      <td>CALOTO</td>\n",
              "      <td>19142</td>\n",
              "      <td>2018</td>\n",
              "      <td>4</td>\n",
              "      <td>Comunidades</td>\n",
              "      <td>NaN</td>\n",
              "      <td>NaN</td>\n",
              "      <td>0.0</td>\n",
              "      <td>0.0</td>\n",
              "      <td>0.0</td>\n",
              "      <td>HI</td>\n",
              "      <td>3</td>\n",
              "      <td>0</td>\n",
              "      <td>0</td>\n",
              "      <td>0</td>\n",
              "      <td>0</td>\n",
              "    </tr>\n",
              "    <tr>\n",
              "      <th>1</th>\n",
              "      <td>META</td>\n",
              "      <td>50</td>\n",
              "      <td>LA MACARENA</td>\n",
              "      <td>50350</td>\n",
              "      <td>2019</td>\n",
              "      <td>9</td>\n",
              "      <td>Comunidades</td>\n",
              "      <td>1563.0</td>\n",
              "      <td>0.0</td>\n",
              "      <td>148.0</td>\n",
              "      <td>NaN</td>\n",
              "      <td>148.0</td>\n",
              "      <td>BRDEH</td>\n",
              "      <td>0</td>\n",
              "      <td>0</td>\n",
              "      <td>1</td>\n",
              "      <td>0</td>\n",
              "      <td>0</td>\n",
              "    </tr>\n",
              "    <tr>\n",
              "      <th>2</th>\n",
              "      <td>SANTANDER</td>\n",
              "      <td>68</td>\n",
              "      <td>SIMACOTA</td>\n",
              "      <td>68745</td>\n",
              "      <td>2020</td>\n",
              "      <td>7</td>\n",
              "      <td>Comunidades</td>\n",
              "      <td>6499.0</td>\n",
              "      <td>NaN</td>\n",
              "      <td>0.0</td>\n",
              "      <td>NaN</td>\n",
              "      <td>0.0</td>\n",
              "      <td>BRDEH</td>\n",
              "      <td>0</td>\n",
              "      <td>0</td>\n",
              "      <td>1</td>\n",
              "      <td>0</td>\n",
              "      <td>0</td>\n",
              "    </tr>\n",
              "    <tr>\n",
              "      <th>3</th>\n",
              "      <td>SUCRE</td>\n",
              "      <td>70</td>\n",
              "      <td>SUCRE</td>\n",
              "      <td>70771</td>\n",
              "      <td>2019</td>\n",
              "      <td>7</td>\n",
              "      <td>Comunidades</td>\n",
              "      <td>0.0</td>\n",
              "      <td>0.0</td>\n",
              "      <td>0.0</td>\n",
              "      <td>0.0</td>\n",
              "      <td>0.0</td>\n",
              "      <td>BRDEH</td>\n",
              "      <td>1</td>\n",
              "      <td>0</td>\n",
              "      <td>0</td>\n",
              "      <td>0</td>\n",
              "      <td>0</td>\n",
              "    </tr>\n",
              "    <tr>\n",
              "      <th>4</th>\n",
              "      <td>ANTIOQUIA</td>\n",
              "      <td>5</td>\n",
              "      <td>GRANADA</td>\n",
              "      <td>5313</td>\n",
              "      <td>2015</td>\n",
              "      <td>3</td>\n",
              "      <td>Comunidades</td>\n",
              "      <td>7786.0</td>\n",
              "      <td>1.0</td>\n",
              "      <td>0.0</td>\n",
              "      <td>0.0</td>\n",
              "      <td>1.0</td>\n",
              "      <td>BRDEH</td>\n",
              "      <td>7</td>\n",
              "      <td>1</td>\n",
              "      <td>1</td>\n",
              "      <td>0</td>\n",
              "      <td>0</td>\n",
              "    </tr>\n",
              "  </tbody>\n",
              "</table>\n",
              "</div>\n",
              "      <button class=\"colab-df-convert\" onclick=\"convertToInteractive('df-06b34927-ac08-445c-8f4a-e9548238bfb8')\"\n",
              "              title=\"Convert this dataframe to an interactive table.\"\n",
              "              style=\"display:none;\">\n",
              "        \n",
              "  <svg xmlns=\"http://www.w3.org/2000/svg\" height=\"24px\"viewBox=\"0 0 24 24\"\n",
              "       width=\"24px\">\n",
              "    <path d=\"M0 0h24v24H0V0z\" fill=\"none\"/>\n",
              "    <path d=\"M18.56 5.44l.94 2.06.94-2.06 2.06-.94-2.06-.94-.94-2.06-.94 2.06-2.06.94zm-11 1L8.5 8.5l.94-2.06 2.06-.94-2.06-.94L8.5 2.5l-.94 2.06-2.06.94zm10 10l.94 2.06.94-2.06 2.06-.94-2.06-.94-.94-2.06-.94 2.06-2.06.94z\"/><path d=\"M17.41 7.96l-1.37-1.37c-.4-.4-.92-.59-1.43-.59-.52 0-1.04.2-1.43.59L10.3 9.45l-7.72 7.72c-.78.78-.78 2.05 0 2.83L4 21.41c.39.39.9.59 1.41.59.51 0 1.02-.2 1.41-.59l7.78-7.78 2.81-2.81c.8-.78.8-2.07 0-2.86zM5.41 20L4 18.59l7.72-7.72 1.47 1.35L5.41 20z\"/>\n",
              "  </svg>\n",
              "      </button>\n",
              "      \n",
              "  <style>\n",
              "    .colab-df-container {\n",
              "      display:flex;\n",
              "      flex-wrap:wrap;\n",
              "      gap: 12px;\n",
              "    }\n",
              "\n",
              "    .colab-df-convert {\n",
              "      background-color: #E8F0FE;\n",
              "      border: none;\n",
              "      border-radius: 50%;\n",
              "      cursor: pointer;\n",
              "      display: none;\n",
              "      fill: #1967D2;\n",
              "      height: 32px;\n",
              "      padding: 0 0 0 0;\n",
              "      width: 32px;\n",
              "    }\n",
              "\n",
              "    .colab-df-convert:hover {\n",
              "      background-color: #E2EBFA;\n",
              "      box-shadow: 0px 1px 2px rgba(60, 64, 67, 0.3), 0px 1px 3px 1px rgba(60, 64, 67, 0.15);\n",
              "      fill: #174EA6;\n",
              "    }\n",
              "\n",
              "    [theme=dark] .colab-df-convert {\n",
              "      background-color: #3B4455;\n",
              "      fill: #D2E3FC;\n",
              "    }\n",
              "\n",
              "    [theme=dark] .colab-df-convert:hover {\n",
              "      background-color: #434B5C;\n",
              "      box-shadow: 0px 1px 3px 1px rgba(0, 0, 0, 0.15);\n",
              "      filter: drop-shadow(0px 1px 2px rgba(0, 0, 0, 0.3));\n",
              "      fill: #FFFFFF;\n",
              "    }\n",
              "  </style>\n",
              "\n",
              "      <script>\n",
              "        const buttonEl =\n",
              "          document.querySelector('#df-06b34927-ac08-445c-8f4a-e9548238bfb8 button.colab-df-convert');\n",
              "        buttonEl.style.display =\n",
              "          google.colab.kernel.accessAllowed ? 'block' : 'none';\n",
              "\n",
              "        async function convertToInteractive(key) {\n",
              "          const element = document.querySelector('#df-06b34927-ac08-445c-8f4a-e9548238bfb8');\n",
              "          const dataTable =\n",
              "            await google.colab.kernel.invokeFunction('convertToInteractive',\n",
              "                                                     [key], {});\n",
              "          if (!dataTable) return;\n",
              "\n",
              "          const docLinkHtml = 'Like what you see? Visit the ' +\n",
              "            '<a target=\"_blank\" href=https://colab.research.google.com/notebooks/data_table.ipynb>data table notebook</a>'\n",
              "            + ' to learn more about interactive tables.';\n",
              "          element.innerHTML = '';\n",
              "          dataTable['output_type'] = 'display_data';\n",
              "          await google.colab.output.renderOutput(dataTable, element);\n",
              "          const docLink = document.createElement('div');\n",
              "          docLink.innerHTML = docLinkHtml;\n",
              "          element.appendChild(docLink);\n",
              "        }\n",
              "      </script>\n",
              "    </div>\n",
              "  </div>\n",
              "  "
            ]
          },
          "metadata": {},
          "execution_count": 2
        }
      ],
      "source": [
        "# CARGAR Y LEER ARCHIVO\n",
        "\n",
        "from google.colab import files\n",
        "files.upload()\n",
        "\n",
        "datos = pd.read_csv('Desminar.csv')\n",
        "df=pd.DataFrame(datos)\n",
        "pd.options.display.max_columns = None\n",
        "df.head()"
      ]
    },
    {
      "cell_type": "code",
      "execution_count": null,
      "metadata": {
        "colab": {
          "base_uri": "https://localhost:8080/"
        },
        "id": "YKM3JVYH8UAE",
        "outputId": "3f50e7b8-56f5-4cbe-ba99-bb4406b6b216"
      },
      "outputs": [
        {
          "output_type": "execute_result",
          "data": {
            "text/plain": [
              "0"
            ]
          },
          "metadata": {},
          "execution_count": 3
        }
      ],
      "source": [
        "# BUSCAR DATOS NULL\n",
        "\n",
        "buscarnull=df.isnull().all().sum()\n",
        "buscarnull"
      ]
    },
    {
      "cell_type": "code",
      "execution_count": null,
      "metadata": {
        "colab": {
          "base_uri": "https://localhost:8080/"
        },
        "id": "oCyv7Da98ca8",
        "outputId": "09aefcba-9742-4562-e643-160167596486"
      },
      "outputs": [
        {
          "output_type": "execute_result",
          "data": {
            "text/plain": [
              "departamento                  0\n",
              "codigodanedepartamento        0\n",
              "municipio                     0\n",
              "codigodanemunicipio           0\n",
              "año                           0\n",
              "mes                           0\n",
              "tipodesminado                 0\n",
              "areadespejada                 2\n",
              "map                           5\n",
              "muse                          1\n",
              "aei                           4\n",
              "totalartefactosdestruidos     1\n",
              "organizacion                  0\n",
              "estudiosnotecnicos            0\n",
              "estudiostecnicos              0\n",
              "operacionesdespeje            0\n",
              "areaspeligrosas               0\n",
              "areaspeligrosasconfirmadas    0\n",
              "dtype: int64"
            ]
          },
          "metadata": {},
          "execution_count": 4
        }
      ],
      "source": [
        "# BUSCAR DATOS NAN\n",
        "\n",
        "buscarnan=df.isna().sum()\n",
        "buscarnan"
      ]
    },
    {
      "cell_type": "code",
      "execution_count": null,
      "metadata": {
        "id": "XlOBi41U8jYd",
        "colab": {
          "base_uri": "https://localhost:8080/",
          "height": 505
        },
        "outputId": "26c1408e-5e30-468a-a498-a2b5c7fd2a60"
      },
      "outputs": [
        {
          "output_type": "execute_result",
          "data": {
            "text/plain": [
              "         departamento  codigodanedepartamento     municipio  \\\n",
              "0               CAUCA                      19        CALOTO   \n",
              "1                META                      50   LA MACARENA   \n",
              "2           SANTANDER                      68      SIMACOTA   \n",
              "3               SUCRE                      70         SUCRE   \n",
              "4           ANTIOQUIA                       5       GRANADA   \n",
              "...               ...                     ...           ...   \n",
              "4545        SANTANDER                      68     EL PLAYÓN   \n",
              "4546           TOLIMA                      73      PLANADAS   \n",
              "4547             META                      50  VISTAHERMOSA   \n",
              "4548  VALLE DEL CAUCA                      76         TULUÁ   \n",
              "4549           TOLIMA                      73     CAJAMARCA   \n",
              "\n",
              "      codigodanemunicipio   año  mes tipodesminado  areadespejada  map   muse  \\\n",
              "0                   19142  2018    4   Comunidades            0.0  0.0    0.0   \n",
              "1                   50350  2019    9   Comunidades         1563.0  0.0  148.0   \n",
              "2                   68745  2020    7   Comunidades         6499.0  0.0    0.0   \n",
              "3                   70771  2019    7   Comunidades            0.0  0.0    0.0   \n",
              "4                    5313  2015    3   Comunidades         7786.0  1.0    0.0   \n",
              "...                   ...   ...  ...           ...            ...  ...    ...   \n",
              "4545                68255  2020    4   Comunidades            0.0  0.0    0.0   \n",
              "4546                73555  2021    4   Comunidades        16408.0  0.0    0.0   \n",
              "4547                50711  2017   11   Comunidades            0.0  0.0    0.0   \n",
              "4548                76834  2019    9   Comunidades            0.0  0.0    0.0   \n",
              "4549                73124  2021   12   Comunidades        19316.0  0.0    0.0   \n",
              "\n",
              "      aei  totalartefactosdestruidos organizacion  estudiosnotecnicos  \\\n",
              "0     0.0                        0.0           HI                   3   \n",
              "1     0.0                      148.0        BRDEH                   0   \n",
              "2     0.0                        0.0        BRDEH                   0   \n",
              "3     0.0                        0.0        BRDEH                   1   \n",
              "4     0.0                        1.0        BRDEH                   7   \n",
              "...   ...                        ...          ...                 ...   \n",
              "4545  0.0                        0.0        BRDEH                   1   \n",
              "4546  0.0                        0.0        BRDEH                   0   \n",
              "4547  0.0                        0.0          APN                   0   \n",
              "4548  0.0                        0.0        BRDEH                   0   \n",
              "4549  0.0                        0.0        BRDEH                   0   \n",
              "\n",
              "      estudiostecnicos  operacionesdespeje  areaspeligrosas  \\\n",
              "0                    0                   0                0   \n",
              "1                    0                   1                0   \n",
              "2                    0                   1                0   \n",
              "3                    0                   0                0   \n",
              "4                    1                   1                0   \n",
              "...                ...                 ...              ...   \n",
              "4545                 0                   0                0   \n",
              "4546                 1                   0                0   \n",
              "4547                 0                   0                1   \n",
              "4548                 0                   0                0   \n",
              "4549                 0                   1                0   \n",
              "\n",
              "      areaspeligrosasconfirmadas  \n",
              "0                              0  \n",
              "1                              0  \n",
              "2                              0  \n",
              "3                              0  \n",
              "4                              0  \n",
              "...                          ...  \n",
              "4545                           0  \n",
              "4546                           0  \n",
              "4547                           0  \n",
              "4548                           1  \n",
              "4549                           0  \n",
              "\n",
              "[4550 rows x 18 columns]"
            ],
            "text/html": [
              "\n",
              "  <div id=\"df-5ecd16e8-c376-4b4d-9701-3d01470dc465\">\n",
              "    <div class=\"colab-df-container\">\n",
              "      <div>\n",
              "<style scoped>\n",
              "    .dataframe tbody tr th:only-of-type {\n",
              "        vertical-align: middle;\n",
              "    }\n",
              "\n",
              "    .dataframe tbody tr th {\n",
              "        vertical-align: top;\n",
              "    }\n",
              "\n",
              "    .dataframe thead th {\n",
              "        text-align: right;\n",
              "    }\n",
              "</style>\n",
              "<table border=\"1\" class=\"dataframe\">\n",
              "  <thead>\n",
              "    <tr style=\"text-align: right;\">\n",
              "      <th></th>\n",
              "      <th>departamento</th>\n",
              "      <th>codigodanedepartamento</th>\n",
              "      <th>municipio</th>\n",
              "      <th>codigodanemunicipio</th>\n",
              "      <th>año</th>\n",
              "      <th>mes</th>\n",
              "      <th>tipodesminado</th>\n",
              "      <th>areadespejada</th>\n",
              "      <th>map</th>\n",
              "      <th>muse</th>\n",
              "      <th>aei</th>\n",
              "      <th>totalartefactosdestruidos</th>\n",
              "      <th>organizacion</th>\n",
              "      <th>estudiosnotecnicos</th>\n",
              "      <th>estudiostecnicos</th>\n",
              "      <th>operacionesdespeje</th>\n",
              "      <th>areaspeligrosas</th>\n",
              "      <th>areaspeligrosasconfirmadas</th>\n",
              "    </tr>\n",
              "  </thead>\n",
              "  <tbody>\n",
              "    <tr>\n",
              "      <th>0</th>\n",
              "      <td>CAUCA</td>\n",
              "      <td>19</td>\n",
              "      <td>CALOTO</td>\n",
              "      <td>19142</td>\n",
              "      <td>2018</td>\n",
              "      <td>4</td>\n",
              "      <td>Comunidades</td>\n",
              "      <td>0.0</td>\n",
              "      <td>0.0</td>\n",
              "      <td>0.0</td>\n",
              "      <td>0.0</td>\n",
              "      <td>0.0</td>\n",
              "      <td>HI</td>\n",
              "      <td>3</td>\n",
              "      <td>0</td>\n",
              "      <td>0</td>\n",
              "      <td>0</td>\n",
              "      <td>0</td>\n",
              "    </tr>\n",
              "    <tr>\n",
              "      <th>1</th>\n",
              "      <td>META</td>\n",
              "      <td>50</td>\n",
              "      <td>LA MACARENA</td>\n",
              "      <td>50350</td>\n",
              "      <td>2019</td>\n",
              "      <td>9</td>\n",
              "      <td>Comunidades</td>\n",
              "      <td>1563.0</td>\n",
              "      <td>0.0</td>\n",
              "      <td>148.0</td>\n",
              "      <td>0.0</td>\n",
              "      <td>148.0</td>\n",
              "      <td>BRDEH</td>\n",
              "      <td>0</td>\n",
              "      <td>0</td>\n",
              "      <td>1</td>\n",
              "      <td>0</td>\n",
              "      <td>0</td>\n",
              "    </tr>\n",
              "    <tr>\n",
              "      <th>2</th>\n",
              "      <td>SANTANDER</td>\n",
              "      <td>68</td>\n",
              "      <td>SIMACOTA</td>\n",
              "      <td>68745</td>\n",
              "      <td>2020</td>\n",
              "      <td>7</td>\n",
              "      <td>Comunidades</td>\n",
              "      <td>6499.0</td>\n",
              "      <td>0.0</td>\n",
              "      <td>0.0</td>\n",
              "      <td>0.0</td>\n",
              "      <td>0.0</td>\n",
              "      <td>BRDEH</td>\n",
              "      <td>0</td>\n",
              "      <td>0</td>\n",
              "      <td>1</td>\n",
              "      <td>0</td>\n",
              "      <td>0</td>\n",
              "    </tr>\n",
              "    <tr>\n",
              "      <th>3</th>\n",
              "      <td>SUCRE</td>\n",
              "      <td>70</td>\n",
              "      <td>SUCRE</td>\n",
              "      <td>70771</td>\n",
              "      <td>2019</td>\n",
              "      <td>7</td>\n",
              "      <td>Comunidades</td>\n",
              "      <td>0.0</td>\n",
              "      <td>0.0</td>\n",
              "      <td>0.0</td>\n",
              "      <td>0.0</td>\n",
              "      <td>0.0</td>\n",
              "      <td>BRDEH</td>\n",
              "      <td>1</td>\n",
              "      <td>0</td>\n",
              "      <td>0</td>\n",
              "      <td>0</td>\n",
              "      <td>0</td>\n",
              "    </tr>\n",
              "    <tr>\n",
              "      <th>4</th>\n",
              "      <td>ANTIOQUIA</td>\n",
              "      <td>5</td>\n",
              "      <td>GRANADA</td>\n",
              "      <td>5313</td>\n",
              "      <td>2015</td>\n",
              "      <td>3</td>\n",
              "      <td>Comunidades</td>\n",
              "      <td>7786.0</td>\n",
              "      <td>1.0</td>\n",
              "      <td>0.0</td>\n",
              "      <td>0.0</td>\n",
              "      <td>1.0</td>\n",
              "      <td>BRDEH</td>\n",
              "      <td>7</td>\n",
              "      <td>1</td>\n",
              "      <td>1</td>\n",
              "      <td>0</td>\n",
              "      <td>0</td>\n",
              "    </tr>\n",
              "    <tr>\n",
              "      <th>...</th>\n",
              "      <td>...</td>\n",
              "      <td>...</td>\n",
              "      <td>...</td>\n",
              "      <td>...</td>\n",
              "      <td>...</td>\n",
              "      <td>...</td>\n",
              "      <td>...</td>\n",
              "      <td>...</td>\n",
              "      <td>...</td>\n",
              "      <td>...</td>\n",
              "      <td>...</td>\n",
              "      <td>...</td>\n",
              "      <td>...</td>\n",
              "      <td>...</td>\n",
              "      <td>...</td>\n",
              "      <td>...</td>\n",
              "      <td>...</td>\n",
              "      <td>...</td>\n",
              "    </tr>\n",
              "    <tr>\n",
              "      <th>4545</th>\n",
              "      <td>SANTANDER</td>\n",
              "      <td>68</td>\n",
              "      <td>EL PLAYÓN</td>\n",
              "      <td>68255</td>\n",
              "      <td>2020</td>\n",
              "      <td>4</td>\n",
              "      <td>Comunidades</td>\n",
              "      <td>0.0</td>\n",
              "      <td>0.0</td>\n",
              "      <td>0.0</td>\n",
              "      <td>0.0</td>\n",
              "      <td>0.0</td>\n",
              "      <td>BRDEH</td>\n",
              "      <td>1</td>\n",
              "      <td>0</td>\n",
              "      <td>0</td>\n",
              "      <td>0</td>\n",
              "      <td>0</td>\n",
              "    </tr>\n",
              "    <tr>\n",
              "      <th>4546</th>\n",
              "      <td>TOLIMA</td>\n",
              "      <td>73</td>\n",
              "      <td>PLANADAS</td>\n",
              "      <td>73555</td>\n",
              "      <td>2021</td>\n",
              "      <td>4</td>\n",
              "      <td>Comunidades</td>\n",
              "      <td>16408.0</td>\n",
              "      <td>0.0</td>\n",
              "      <td>0.0</td>\n",
              "      <td>0.0</td>\n",
              "      <td>0.0</td>\n",
              "      <td>BRDEH</td>\n",
              "      <td>0</td>\n",
              "      <td>1</td>\n",
              "      <td>0</td>\n",
              "      <td>0</td>\n",
              "      <td>0</td>\n",
              "    </tr>\n",
              "    <tr>\n",
              "      <th>4547</th>\n",
              "      <td>META</td>\n",
              "      <td>50</td>\n",
              "      <td>VISTAHERMOSA</td>\n",
              "      <td>50711</td>\n",
              "      <td>2017</td>\n",
              "      <td>11</td>\n",
              "      <td>Comunidades</td>\n",
              "      <td>0.0</td>\n",
              "      <td>0.0</td>\n",
              "      <td>0.0</td>\n",
              "      <td>0.0</td>\n",
              "      <td>0.0</td>\n",
              "      <td>APN</td>\n",
              "      <td>0</td>\n",
              "      <td>0</td>\n",
              "      <td>0</td>\n",
              "      <td>1</td>\n",
              "      <td>0</td>\n",
              "    </tr>\n",
              "    <tr>\n",
              "      <th>4548</th>\n",
              "      <td>VALLE DEL CAUCA</td>\n",
              "      <td>76</td>\n",
              "      <td>TULUÁ</td>\n",
              "      <td>76834</td>\n",
              "      <td>2019</td>\n",
              "      <td>9</td>\n",
              "      <td>Comunidades</td>\n",
              "      <td>0.0</td>\n",
              "      <td>0.0</td>\n",
              "      <td>0.0</td>\n",
              "      <td>0.0</td>\n",
              "      <td>0.0</td>\n",
              "      <td>BRDEH</td>\n",
              "      <td>0</td>\n",
              "      <td>0</td>\n",
              "      <td>0</td>\n",
              "      <td>0</td>\n",
              "      <td>1</td>\n",
              "    </tr>\n",
              "    <tr>\n",
              "      <th>4549</th>\n",
              "      <td>TOLIMA</td>\n",
              "      <td>73</td>\n",
              "      <td>CAJAMARCA</td>\n",
              "      <td>73124</td>\n",
              "      <td>2021</td>\n",
              "      <td>12</td>\n",
              "      <td>Comunidades</td>\n",
              "      <td>19316.0</td>\n",
              "      <td>0.0</td>\n",
              "      <td>0.0</td>\n",
              "      <td>0.0</td>\n",
              "      <td>0.0</td>\n",
              "      <td>BRDEH</td>\n",
              "      <td>0</td>\n",
              "      <td>0</td>\n",
              "      <td>1</td>\n",
              "      <td>0</td>\n",
              "      <td>0</td>\n",
              "    </tr>\n",
              "  </tbody>\n",
              "</table>\n",
              "<p>4550 rows × 18 columns</p>\n",
              "</div>\n",
              "      <button class=\"colab-df-convert\" onclick=\"convertToInteractive('df-5ecd16e8-c376-4b4d-9701-3d01470dc465')\"\n",
              "              title=\"Convert this dataframe to an interactive table.\"\n",
              "              style=\"display:none;\">\n",
              "        \n",
              "  <svg xmlns=\"http://www.w3.org/2000/svg\" height=\"24px\"viewBox=\"0 0 24 24\"\n",
              "       width=\"24px\">\n",
              "    <path d=\"M0 0h24v24H0V0z\" fill=\"none\"/>\n",
              "    <path d=\"M18.56 5.44l.94 2.06.94-2.06 2.06-.94-2.06-.94-.94-2.06-.94 2.06-2.06.94zm-11 1L8.5 8.5l.94-2.06 2.06-.94-2.06-.94L8.5 2.5l-.94 2.06-2.06.94zm10 10l.94 2.06.94-2.06 2.06-.94-2.06-.94-.94-2.06-.94 2.06-2.06.94z\"/><path d=\"M17.41 7.96l-1.37-1.37c-.4-.4-.92-.59-1.43-.59-.52 0-1.04.2-1.43.59L10.3 9.45l-7.72 7.72c-.78.78-.78 2.05 0 2.83L4 21.41c.39.39.9.59 1.41.59.51 0 1.02-.2 1.41-.59l7.78-7.78 2.81-2.81c.8-.78.8-2.07 0-2.86zM5.41 20L4 18.59l7.72-7.72 1.47 1.35L5.41 20z\"/>\n",
              "  </svg>\n",
              "      </button>\n",
              "      \n",
              "  <style>\n",
              "    .colab-df-container {\n",
              "      display:flex;\n",
              "      flex-wrap:wrap;\n",
              "      gap: 12px;\n",
              "    }\n",
              "\n",
              "    .colab-df-convert {\n",
              "      background-color: #E8F0FE;\n",
              "      border: none;\n",
              "      border-radius: 50%;\n",
              "      cursor: pointer;\n",
              "      display: none;\n",
              "      fill: #1967D2;\n",
              "      height: 32px;\n",
              "      padding: 0 0 0 0;\n",
              "      width: 32px;\n",
              "    }\n",
              "\n",
              "    .colab-df-convert:hover {\n",
              "      background-color: #E2EBFA;\n",
              "      box-shadow: 0px 1px 2px rgba(60, 64, 67, 0.3), 0px 1px 3px 1px rgba(60, 64, 67, 0.15);\n",
              "      fill: #174EA6;\n",
              "    }\n",
              "\n",
              "    [theme=dark] .colab-df-convert {\n",
              "      background-color: #3B4455;\n",
              "      fill: #D2E3FC;\n",
              "    }\n",
              "\n",
              "    [theme=dark] .colab-df-convert:hover {\n",
              "      background-color: #434B5C;\n",
              "      box-shadow: 0px 1px 3px 1px rgba(0, 0, 0, 0.15);\n",
              "      filter: drop-shadow(0px 1px 2px rgba(0, 0, 0, 0.3));\n",
              "      fill: #FFFFFF;\n",
              "    }\n",
              "  </style>\n",
              "\n",
              "      <script>\n",
              "        const buttonEl =\n",
              "          document.querySelector('#df-5ecd16e8-c376-4b4d-9701-3d01470dc465 button.colab-df-convert');\n",
              "        buttonEl.style.display =\n",
              "          google.colab.kernel.accessAllowed ? 'block' : 'none';\n",
              "\n",
              "        async function convertToInteractive(key) {\n",
              "          const element = document.querySelector('#df-5ecd16e8-c376-4b4d-9701-3d01470dc465');\n",
              "          const dataTable =\n",
              "            await google.colab.kernel.invokeFunction('convertToInteractive',\n",
              "                                                     [key], {});\n",
              "          if (!dataTable) return;\n",
              "\n",
              "          const docLinkHtml = 'Like what you see? Visit the ' +\n",
              "            '<a target=\"_blank\" href=https://colab.research.google.com/notebooks/data_table.ipynb>data table notebook</a>'\n",
              "            + ' to learn more about interactive tables.';\n",
              "          element.innerHTML = '';\n",
              "          dataTable['output_type'] = 'display_data';\n",
              "          await google.colab.output.renderOutput(dataTable, element);\n",
              "          const docLink = document.createElement('div');\n",
              "          docLink.innerHTML = docLinkHtml;\n",
              "          element.appendChild(docLink);\n",
              "        }\n",
              "      </script>\n",
              "    </div>\n",
              "  </div>\n",
              "  "
            ]
          },
          "metadata": {},
          "execution_count": 5
        }
      ],
      "source": [
        "# LLENAR DATOS NAN CON CEROS\n",
        "\n",
        "llenar=df.fillna(0)\n",
        "llenar"
      ]
    },
    {
      "cell_type": "code",
      "execution_count": null,
      "metadata": {
        "id": "4pHs2yuu8qS0",
        "colab": {
          "base_uri": "https://localhost:8080/"
        },
        "outputId": "7d99f34b-82fb-4efb-9338-0055c229860e"
      },
      "outputs": [
        {
          "output_type": "execute_result",
          "data": {
            "text/plain": [
              "departamento                  0\n",
              "codigodanedepartamento        0\n",
              "municipio                     0\n",
              "codigodanemunicipio           0\n",
              "año                           0\n",
              "mes                           0\n",
              "tipodesminado                 0\n",
              "areadespejada                 0\n",
              "map                           0\n",
              "muse                          0\n",
              "aei                           0\n",
              "totalartefactosdestruidos     0\n",
              "organizacion                  0\n",
              "estudiosnotecnicos            0\n",
              "estudiostecnicos              0\n",
              "operacionesdespeje            0\n",
              "areaspeligrosas               0\n",
              "areaspeligrosasconfirmadas    0\n",
              "dtype: int64"
            ]
          },
          "metadata": {},
          "execution_count": 6
        }
      ],
      "source": [
        "# VERIFICAR QUE LOS DATOS NAN FUERON LLENADOS\n",
        "\n",
        "verificar=llenar.isna().sum()\n",
        "verificar"
      ]
    },
    {
      "cell_type": "code",
      "execution_count": null,
      "metadata": {
        "id": "ribwYhgm80Nu",
        "colab": {
          "base_uri": "https://localhost:8080/"
        },
        "outputId": "165e633e-f0a9-4485-bb1f-9d8d66d48a90"
      },
      "outputs": [
        {
          "output_type": "execute_result",
          "data": {
            "text/plain": [
              "departamento\n",
              "AMAZONAS              1159.0\n",
              "ANTIOQUIA             1471.0\n",
              "ARAUCA                 103.0\n",
              "ATLANTICO               26.0\n",
              "BOGOTA DC              457.0\n",
              "BOLIVAR                691.0\n",
              "BOYACA                   0.0\n",
              "CALDAS                 448.0\n",
              "CAQUETA                315.0\n",
              "CASANARE                 0.0\n",
              "CAUCA                  159.0\n",
              "CESAR                   21.0\n",
              "CHOCO                   20.0\n",
              "CORDOBA                  0.0\n",
              "CUNDINAMARCA           178.0\n",
              "GUAINIA                  0.0\n",
              "GUAVIARE               440.0\n",
              "HUILA                  174.0\n",
              "LA GUAJIRA               2.0\n",
              "MAGDALENA                0.0\n",
              "META                   756.0\n",
              "NARIÑO                  56.0\n",
              "NORTE DE SANTANDER     107.0\n",
              "PUTUMAYO               220.0\n",
              "QUINDIO                133.0\n",
              "RISARALDA                6.0\n",
              "SANTANDER              283.0\n",
              "SUCRE                    8.0\n",
              "TOLIMA                 558.0\n",
              "VALLE DEL CAUCA        273.0\n",
              "VAUPES                   4.0\n",
              "Name: totalartefactosdestruidos, dtype: float64"
            ]
          },
          "metadata": {},
          "execution_count": 7
        }
      ],
      "source": [
        "# SUMAR LOS ARTEFACTOS DESTRUIDOS POR DEPARTAMENTO\n",
        "\n",
        "def sumas():\n",
        "    sumar=llenar.groupby('departamento')['totalartefactosdestruidos'].sum()\n",
        "    return sumar\n",
        "sumas()"
      ]
    },
    {
      "cell_type": "code",
      "source": [
        "# TOTAL ARTEFACTOS DESTRUIDOS\n",
        "sumar=llenar[[\"totalartefactosdestruidos\"]].sum()\n",
        "sumar"
      ],
      "metadata": {
        "colab": {
          "base_uri": "https://localhost:8080/"
        },
        "id": "fiuhlTM-1gLO",
        "outputId": "74992013-cd75-4dec-b874-276c6fea4c37"
      },
      "execution_count": null,
      "outputs": [
        {
          "output_type": "execute_result",
          "data": {
            "text/plain": [
              "totalartefactosdestruidos    8068.0\n",
              "dtype: float64"
            ]
          },
          "metadata": {},
          "execution_count": 26
        }
      ]
    },
    {
      "cell_type": "code",
      "execution_count": null,
      "metadata": {
        "colab": {
          "base_uri": "https://localhost:8080/",
          "height": 17
        },
        "id": "bCCJheRY88Xl",
        "outputId": "85f5201a-3aa0-4b01-b879-bbed7a933878"
      },
      "outputs": [
        {
          "output_type": "display_data",
          "data": {
            "text/plain": [
              "<IPython.core.display.Javascript object>"
            ],
            "application/javascript": [
              "\n",
              "    async function download(id, filename, size) {\n",
              "      if (!google.colab.kernel.accessAllowed) {\n",
              "        return;\n",
              "      }\n",
              "      const div = document.createElement('div');\n",
              "      const label = document.createElement('label');\n",
              "      label.textContent = `Downloading \"${filename}\": `;\n",
              "      div.appendChild(label);\n",
              "      const progress = document.createElement('progress');\n",
              "      progress.max = size;\n",
              "      div.appendChild(progress);\n",
              "      document.body.appendChild(div);\n",
              "\n",
              "      const buffers = [];\n",
              "      let downloaded = 0;\n",
              "\n",
              "      const channel = await google.colab.kernel.comms.open(id);\n",
              "      // Send a message to notify the kernel that we're ready.\n",
              "      channel.send({})\n",
              "\n",
              "      for await (const message of channel.messages) {\n",
              "        // Send a message to notify the kernel that we're ready.\n",
              "        channel.send({})\n",
              "        if (message.buffers) {\n",
              "          for (const buffer of message.buffers) {\n",
              "            buffers.push(buffer);\n",
              "            downloaded += buffer.byteLength;\n",
              "            progress.value = downloaded;\n",
              "          }\n",
              "        }\n",
              "      }\n",
              "      const blob = new Blob(buffers, {type: 'application/binary'});\n",
              "      const a = document.createElement('a');\n",
              "      a.href = window.URL.createObjectURL(blob);\n",
              "      a.download = filename;\n",
              "      div.appendChild(a);\n",
              "      a.click();\n",
              "      div.remove();\n",
              "    }\n",
              "  "
            ]
          },
          "metadata": {}
        },
        {
          "output_type": "display_data",
          "data": {
            "text/plain": [
              "<IPython.core.display.Javascript object>"
            ],
            "application/javascript": [
              "download(\"download_72fa1be3-7caa-4989-b4df-f92fa1e76d85\", \"1.csv\", 62758)"
            ]
          },
          "metadata": {}
        }
      ],
      "source": [
        "# SERIES QUE SE VAN A GRAFICAR Y GUARDAR EN ARCHIVO CSV\n",
        "\n",
        "grafica1=llenar[[\"año\",\"totalartefactosdestruidos\"]].copy()\n",
        "grafica1\n",
        "grafica1.to_csv('1.csv')\n",
        "from google.colab import files\n",
        "files.download('1.csv')"
      ]
    },
    {
      "cell_type": "code",
      "execution_count": null,
      "metadata": {
        "colab": {
          "base_uri": "https://localhost:8080/",
          "height": 17
        },
        "id": "pUW_baHA9bqU",
        "outputId": "e4b25eca-84a2-4e63-d81c-bd28ebf42e38"
      },
      "outputs": [
        {
          "output_type": "display_data",
          "data": {
            "text/plain": [
              "<IPython.core.display.Javascript object>"
            ],
            "application/javascript": [
              "\n",
              "    async function download(id, filename, size) {\n",
              "      if (!google.colab.kernel.accessAllowed) {\n",
              "        return;\n",
              "      }\n",
              "      const div = document.createElement('div');\n",
              "      const label = document.createElement('label');\n",
              "      label.textContent = `Downloading \"${filename}\": `;\n",
              "      div.appendChild(label);\n",
              "      const progress = document.createElement('progress');\n",
              "      progress.max = size;\n",
              "      div.appendChild(progress);\n",
              "      document.body.appendChild(div);\n",
              "\n",
              "      const buffers = [];\n",
              "      let downloaded = 0;\n",
              "\n",
              "      const channel = await google.colab.kernel.comms.open(id);\n",
              "      // Send a message to notify the kernel that we're ready.\n",
              "      channel.send({})\n",
              "\n",
              "      for await (const message of channel.messages) {\n",
              "        // Send a message to notify the kernel that we're ready.\n",
              "        channel.send({})\n",
              "        if (message.buffers) {\n",
              "          for (const buffer of message.buffers) {\n",
              "            buffers.push(buffer);\n",
              "            downloaded += buffer.byteLength;\n",
              "            progress.value = downloaded;\n",
              "          }\n",
              "        }\n",
              "      }\n",
              "      const blob = new Blob(buffers, {type: 'application/binary'});\n",
              "      const a = document.createElement('a');\n",
              "      a.href = window.URL.createObjectURL(blob);\n",
              "      a.download = filename;\n",
              "      div.appendChild(a);\n",
              "      a.click();\n",
              "      div.remove();\n",
              "    }\n",
              "  "
            ]
          },
          "metadata": {}
        },
        {
          "output_type": "display_data",
          "data": {
            "text/plain": [
              "<IPython.core.display.Javascript object>"
            ],
            "application/javascript": [
              "download(\"download_53fceba7-1d86-4e8d-8894-6fbbeaba744f\", \"2.csv\", 54150)"
            ]
          },
          "metadata": {}
        }
      ],
      "source": [
        "grafica2=llenar[[\"mes\",\"areadespejada\"]].copy()\n",
        "grafica2\n",
        "grafica2.to_csv('2.csv')\n",
        "from google.colab import files\n",
        "files.download('2.csv')"
      ]
    },
    {
      "cell_type": "code",
      "execution_count": null,
      "metadata": {
        "colab": {
          "base_uri": "https://localhost:8080/",
          "height": 17
        },
        "id": "gvwJfdyg9fdl",
        "outputId": "4ed45e49-7dd8-481b-8b28-077d7dc60bd7"
      },
      "outputs": [
        {
          "output_type": "display_data",
          "data": {
            "text/plain": [
              "<IPython.core.display.Javascript object>"
            ],
            "application/javascript": [
              "\n",
              "    async function download(id, filename, size) {\n",
              "      if (!google.colab.kernel.accessAllowed) {\n",
              "        return;\n",
              "      }\n",
              "      const div = document.createElement('div');\n",
              "      const label = document.createElement('label');\n",
              "      label.textContent = `Downloading \"${filename}\": `;\n",
              "      div.appendChild(label);\n",
              "      const progress = document.createElement('progress');\n",
              "      progress.max = size;\n",
              "      div.appendChild(progress);\n",
              "      document.body.appendChild(div);\n",
              "\n",
              "      const buffers = [];\n",
              "      let downloaded = 0;\n",
              "\n",
              "      const channel = await google.colab.kernel.comms.open(id);\n",
              "      // Send a message to notify the kernel that we're ready.\n",
              "      channel.send({})\n",
              "\n",
              "      for await (const message of channel.messages) {\n",
              "        // Send a message to notify the kernel that we're ready.\n",
              "        channel.send({})\n",
              "        if (message.buffers) {\n",
              "          for (const buffer of message.buffers) {\n",
              "            buffers.push(buffer);\n",
              "            downloaded += buffer.byteLength;\n",
              "            progress.value = downloaded;\n",
              "          }\n",
              "        }\n",
              "      }\n",
              "      const blob = new Blob(buffers, {type: 'application/binary'});\n",
              "      const a = document.createElement('a');\n",
              "      a.href = window.URL.createObjectURL(blob);\n",
              "      a.download = filename;\n",
              "      div.appendChild(a);\n",
              "      a.click();\n",
              "      div.remove();\n",
              "    }\n",
              "  "
            ]
          },
          "metadata": {}
        },
        {
          "output_type": "display_data",
          "data": {
            "text/plain": [
              "<IPython.core.display.Javascript object>"
            ],
            "application/javascript": [
              "download(\"download_dba407be-5ca0-4536-a93b-4a7397b77ef3\", \"3.csv\", 79015)"
            ]
          },
          "metadata": {}
        }
      ],
      "source": [
        "grafica3=llenar[[\"departamento\",\"totalartefactosdestruidos\"]].copy()\n",
        "grafica3\n",
        "grafica3.to_csv('3.csv')\n",
        "from google.colab import files\n",
        "files.download('3.csv')"
      ]
    },
    {
      "cell_type": "code",
      "execution_count": null,
      "metadata": {
        "id": "IjI8vljI9tV0",
        "colab": {
          "base_uri": "https://localhost:8080/",
          "height": 17
        },
        "outputId": "2d8d0a30-f9c9-46a8-bbd9-52eea84e027a"
      },
      "outputs": [
        {
          "output_type": "display_data",
          "data": {
            "text/plain": [
              "<IPython.core.display.Javascript object>"
            ],
            "application/javascript": [
              "\n",
              "    async function download(id, filename, size) {\n",
              "      if (!google.colab.kernel.accessAllowed) {\n",
              "        return;\n",
              "      }\n",
              "      const div = document.createElement('div');\n",
              "      const label = document.createElement('label');\n",
              "      label.textContent = `Downloading \"${filename}\": `;\n",
              "      div.appendChild(label);\n",
              "      const progress = document.createElement('progress');\n",
              "      progress.max = size;\n",
              "      div.appendChild(progress);\n",
              "      document.body.appendChild(div);\n",
              "\n",
              "      const buffers = [];\n",
              "      let downloaded = 0;\n",
              "\n",
              "      const channel = await google.colab.kernel.comms.open(id);\n",
              "      // Send a message to notify the kernel that we're ready.\n",
              "      channel.send({})\n",
              "\n",
              "      for await (const message of channel.messages) {\n",
              "        // Send a message to notify the kernel that we're ready.\n",
              "        channel.send({})\n",
              "        if (message.buffers) {\n",
              "          for (const buffer of message.buffers) {\n",
              "            buffers.push(buffer);\n",
              "            downloaded += buffer.byteLength;\n",
              "            progress.value = downloaded;\n",
              "          }\n",
              "        }\n",
              "      }\n",
              "      const blob = new Blob(buffers, {type: 'application/binary'});\n",
              "      const a = document.createElement('a');\n",
              "      a.href = window.URL.createObjectURL(blob);\n",
              "      a.download = filename;\n",
              "      div.appendChild(a);\n",
              "      a.click();\n",
              "      div.remove();\n",
              "    }\n",
              "  "
            ]
          },
          "metadata": {}
        },
        {
          "output_type": "display_data",
          "data": {
            "text/plain": [
              "<IPython.core.display.Javascript object>"
            ],
            "application/javascript": [
              "download(\"download_2d53b531-4c3b-47fa-b64f-48b16a74e7f8\", \"4.csv\", 53670)"
            ]
          },
          "metadata": {}
        }
      ],
      "source": [
        "\n",
        "grafica4=llenar[[\"año\",\"estudiosnotecnicos\"]].copy()\n",
        "grafica4\n",
        "grafica4.to_csv('4.csv')\n",
        "from google.colab import files\n",
        "files.download('4.csv')"
      ]
    },
    {
      "cell_type": "markdown",
      "source": [
        "ESTADISTICAS"
      ],
      "metadata": {
        "id": "8m1543fwBvkF"
      }
    },
    {
      "cell_type": "code",
      "source": [
        "grafica1.describe()"
      ],
      "metadata": {
        "colab": {
          "base_uri": "https://localhost:8080/",
          "height": 300
        },
        "id": "KacZMAA41qiI",
        "outputId": "e2a9a65a-d996-4032-e896-38ad78e84dd2"
      },
      "execution_count": null,
      "outputs": [
        {
          "output_type": "execute_result",
          "data": {
            "text/plain": [
              "               año  totalartefactosdestruidos\n",
              "count  4550.000000                4550.000000\n",
              "mean   2017.331648                   1.773187\n",
              "std       3.019048                  15.833714\n",
              "min    2004.000000                   0.000000\n",
              "25%    2016.000000                   0.000000\n",
              "50%    2018.000000                   0.000000\n",
              "75%    2019.000000                   0.000000\n",
              "max    2022.000000                 476.000000"
            ],
            "text/html": [
              "\n",
              "  <div id=\"df-7a644b42-8625-45f6-8bcd-3899ed51d252\">\n",
              "    <div class=\"colab-df-container\">\n",
              "      <div>\n",
              "<style scoped>\n",
              "    .dataframe tbody tr th:only-of-type {\n",
              "        vertical-align: middle;\n",
              "    }\n",
              "\n",
              "    .dataframe tbody tr th {\n",
              "        vertical-align: top;\n",
              "    }\n",
              "\n",
              "    .dataframe thead th {\n",
              "        text-align: right;\n",
              "    }\n",
              "</style>\n",
              "<table border=\"1\" class=\"dataframe\">\n",
              "  <thead>\n",
              "    <tr style=\"text-align: right;\">\n",
              "      <th></th>\n",
              "      <th>año</th>\n",
              "      <th>totalartefactosdestruidos</th>\n",
              "    </tr>\n",
              "  </thead>\n",
              "  <tbody>\n",
              "    <tr>\n",
              "      <th>count</th>\n",
              "      <td>4550.000000</td>\n",
              "      <td>4550.000000</td>\n",
              "    </tr>\n",
              "    <tr>\n",
              "      <th>mean</th>\n",
              "      <td>2017.331648</td>\n",
              "      <td>1.773187</td>\n",
              "    </tr>\n",
              "    <tr>\n",
              "      <th>std</th>\n",
              "      <td>3.019048</td>\n",
              "      <td>15.833714</td>\n",
              "    </tr>\n",
              "    <tr>\n",
              "      <th>min</th>\n",
              "      <td>2004.000000</td>\n",
              "      <td>0.000000</td>\n",
              "    </tr>\n",
              "    <tr>\n",
              "      <th>25%</th>\n",
              "      <td>2016.000000</td>\n",
              "      <td>0.000000</td>\n",
              "    </tr>\n",
              "    <tr>\n",
              "      <th>50%</th>\n",
              "      <td>2018.000000</td>\n",
              "      <td>0.000000</td>\n",
              "    </tr>\n",
              "    <tr>\n",
              "      <th>75%</th>\n",
              "      <td>2019.000000</td>\n",
              "      <td>0.000000</td>\n",
              "    </tr>\n",
              "    <tr>\n",
              "      <th>max</th>\n",
              "      <td>2022.000000</td>\n",
              "      <td>476.000000</td>\n",
              "    </tr>\n",
              "  </tbody>\n",
              "</table>\n",
              "</div>\n",
              "      <button class=\"colab-df-convert\" onclick=\"convertToInteractive('df-7a644b42-8625-45f6-8bcd-3899ed51d252')\"\n",
              "              title=\"Convert this dataframe to an interactive table.\"\n",
              "              style=\"display:none;\">\n",
              "        \n",
              "  <svg xmlns=\"http://www.w3.org/2000/svg\" height=\"24px\"viewBox=\"0 0 24 24\"\n",
              "       width=\"24px\">\n",
              "    <path d=\"M0 0h24v24H0V0z\" fill=\"none\"/>\n",
              "    <path d=\"M18.56 5.44l.94 2.06.94-2.06 2.06-.94-2.06-.94-.94-2.06-.94 2.06-2.06.94zm-11 1L8.5 8.5l.94-2.06 2.06-.94-2.06-.94L8.5 2.5l-.94 2.06-2.06.94zm10 10l.94 2.06.94-2.06 2.06-.94-2.06-.94-.94-2.06-.94 2.06-2.06.94z\"/><path d=\"M17.41 7.96l-1.37-1.37c-.4-.4-.92-.59-1.43-.59-.52 0-1.04.2-1.43.59L10.3 9.45l-7.72 7.72c-.78.78-.78 2.05 0 2.83L4 21.41c.39.39.9.59 1.41.59.51 0 1.02-.2 1.41-.59l7.78-7.78 2.81-2.81c.8-.78.8-2.07 0-2.86zM5.41 20L4 18.59l7.72-7.72 1.47 1.35L5.41 20z\"/>\n",
              "  </svg>\n",
              "      </button>\n",
              "      \n",
              "  <style>\n",
              "    .colab-df-container {\n",
              "      display:flex;\n",
              "      flex-wrap:wrap;\n",
              "      gap: 12px;\n",
              "    }\n",
              "\n",
              "    .colab-df-convert {\n",
              "      background-color: #E8F0FE;\n",
              "      border: none;\n",
              "      border-radius: 50%;\n",
              "      cursor: pointer;\n",
              "      display: none;\n",
              "      fill: #1967D2;\n",
              "      height: 32px;\n",
              "      padding: 0 0 0 0;\n",
              "      width: 32px;\n",
              "    }\n",
              "\n",
              "    .colab-df-convert:hover {\n",
              "      background-color: #E2EBFA;\n",
              "      box-shadow: 0px 1px 2px rgba(60, 64, 67, 0.3), 0px 1px 3px 1px rgba(60, 64, 67, 0.15);\n",
              "      fill: #174EA6;\n",
              "    }\n",
              "\n",
              "    [theme=dark] .colab-df-convert {\n",
              "      background-color: #3B4455;\n",
              "      fill: #D2E3FC;\n",
              "    }\n",
              "\n",
              "    [theme=dark] .colab-df-convert:hover {\n",
              "      background-color: #434B5C;\n",
              "      box-shadow: 0px 1px 3px 1px rgba(0, 0, 0, 0.15);\n",
              "      filter: drop-shadow(0px 1px 2px rgba(0, 0, 0, 0.3));\n",
              "      fill: #FFFFFF;\n",
              "    }\n",
              "  </style>\n",
              "\n",
              "      <script>\n",
              "        const buttonEl =\n",
              "          document.querySelector('#df-7a644b42-8625-45f6-8bcd-3899ed51d252 button.colab-df-convert');\n",
              "        buttonEl.style.display =\n",
              "          google.colab.kernel.accessAllowed ? 'block' : 'none';\n",
              "\n",
              "        async function convertToInteractive(key) {\n",
              "          const element = document.querySelector('#df-7a644b42-8625-45f6-8bcd-3899ed51d252');\n",
              "          const dataTable =\n",
              "            await google.colab.kernel.invokeFunction('convertToInteractive',\n",
              "                                                     [key], {});\n",
              "          if (!dataTable) return;\n",
              "\n",
              "          const docLinkHtml = 'Like what you see? Visit the ' +\n",
              "            '<a target=\"_blank\" href=https://colab.research.google.com/notebooks/data_table.ipynb>data table notebook</a>'\n",
              "            + ' to learn more about interactive tables.';\n",
              "          element.innerHTML = '';\n",
              "          dataTable['output_type'] = 'display_data';\n",
              "          await google.colab.output.renderOutput(dataTable, element);\n",
              "          const docLink = document.createElement('div');\n",
              "          docLink.innerHTML = docLinkHtml;\n",
              "          element.appendChild(docLink);\n",
              "        }\n",
              "      </script>\n",
              "    </div>\n",
              "  </div>\n",
              "  "
            ]
          },
          "metadata": {},
          "execution_count": 31
        }
      ]
    },
    {
      "cell_type": "markdown",
      "metadata": {
        "id": "NYMfgKAq4Zw2"
      },
      "source": [
        "GRAFICAS"
      ]
    },
    {
      "cell_type": "code",
      "execution_count": null,
      "metadata": {
        "id": "pvTI6HPo9yqk",
        "colab": {
          "base_uri": "https://localhost:8080/",
          "height": 312
        },
        "outputId": "f89cd9f6-a56f-4950-cfe6-372a37a48d03"
      },
      "outputs": [
        {
          "output_type": "execute_result",
          "data": {
            "text/plain": [
              "Text(0, 0.5, 'Total minas')"
            ]
          },
          "metadata": {},
          "execution_count": 32
        },
        {
          "output_type": "display_data",
          "data": {
            "text/plain": [
              "<Figure size 432x288 with 1 Axes>"
            ],
            "image/png": "[encoded data removed]"
          },
          "metadata": {
            "needs_background": "light"
          }
        }
      ],
      "source": [
        "\n",
        "# GRAFICA 1\n",
        "\n",
        "grafica1.groupby('año')['totalartefactosdestruidos'].sum().plot(kind='bar')\n",
        "plt.ylabel('Total minas')\n",
        "\n",
        "#Se grafica por año el total de los artefactos destruidos\n",
        "#Se puede evidenciar que el año con mas artefactos destruidos es el año 2009\n",
        "#Y el año con menos artefactos destruidos fue el año 2004"
      ]
    },
    {
      "cell_type": "code",
      "execution_count": null,
      "metadata": {
        "id": "PGMg3Ws292Xc",
        "colab": {
          "base_uri": "https://localhost:8080/",
          "height": 281
        },
        "outputId": "368bffa9-3e55-41eb-f378-f72c63ee9dee"
      },
      "outputs": [
        {
          "output_type": "execute_result",
          "data": {
            "text/plain": [
              "Text(0.5, 1.0, 'Porcentaje desminado por mes')"
            ]
          },
          "metadata": {},
          "execution_count": 33
        },
        {
          "output_type": "display_data",
          "data": {
            "text/plain": [
              "<Figure size 432x288 with 1 Axes>"
            ],
            "image/png": "[encoded data removed]"
          },
          "metadata": {}
        }
      ],
      "source": [
        "\n",
        "# GRAFICA 2\n",
        "\n",
        "grafica2.groupby('mes')['areadespejada'].sum().plot(kind='pie',autopct='%1.1f%%')\n",
        "plt.ylabel('Meses')\n",
        "plt.title('Porcentaje desminado por mes')\n",
        "\n",
        "# Se grafica por mes el porcentaje de area despejada de las minas\n",
        "# Se evidencia que el mes donde mas desminado hubo en porcentaje fue el mes 11\n",
        "# Y el mes que menos desminado tuvo en porcentaje fue el mes 1"
      ]
    },
    {
      "cell_type": "code",
      "execution_count": null,
      "metadata": {
        "id": "vyjIbHR2Ag2Z",
        "colab": {
          "base_uri": "https://localhost:8080/",
          "height": 401
        },
        "outputId": "351ae979-1086-43d0-959c-f93107273cdd"
      },
      "outputs": [
        {
          "output_type": "execute_result",
          "data": {
            "text/plain": [
              "Text(0, 0.5, 'Total minas')"
            ]
          },
          "metadata": {},
          "execution_count": 34
        },
        {
          "output_type": "display_data",
          "data": {
            "text/plain": [
              "<Figure size 432x288 with 1 Axes>"
            ],
            "image/png": "[encoded data removed]"
          },
          "metadata": {
            "needs_background": "light"
          }
        }
      ],
      "source": [
        "# GRAFICA 3\n",
        "\n",
        "grafica3.groupby('departamento')['totalartefactosdestruidos'].sum().plot(kind='bar')\n",
        "plt.ylabel('Total minas')\n",
        "\n",
        "# Se grafica por departamento el total de artefactos destruidos\n",
        "# Se evidencia que el departamento que mas artefactos destruidos tuvo fue Antioquia\n",
        "# y también se evidencia que hubo destrucción de artefactos en 31 departamentos"
      ]
    },
    {
      "cell_type": "code",
      "execution_count": null,
      "metadata": {
        "id": "HclaM25SAiMx",
        "colab": {
          "base_uri": "https://localhost:8080/",
          "height": 955
        },
        "outputId": "4aa42fcf-56c1-47a1-df7a-8025c6249690"
      },
      "outputs": [
        {
          "output_type": "execute_result",
          "data": {
            "text/plain": [
              "      estudiosnotecnicos\n",
              "año                     \n",
              "2004                   0\n",
              "2005                   0\n",
              "2006                   0\n",
              "2007                   0\n",
              "2008                   0\n",
              "2009                   6\n",
              "2010                  35\n",
              "2011                 312\n",
              "2012                 152\n",
              "2013                 258\n",
              "2014                 427\n",
              "2015                 413\n",
              "2016                 549\n",
              "2017                1085\n",
              "2018                2079\n",
              "2019                1431\n",
              "2020                 759\n",
              "2021                 735\n",
              "2022                  17"
            ],
            "text/html": [
              "\n",
              "  <div id=\"df-f5be5dc5-bf70-4afb-8d99-7b5aa55d3bdf\">\n",
              "    <div class=\"colab-df-container\">\n",
              "      <div>\n",
              "<style scoped>\n",
              "    .dataframe tbody tr th:only-of-type {\n",
              "        vertical-align: middle;\n",
              "    }\n",
              "\n",
              "    .dataframe tbody tr th {\n",
              "        vertical-align: top;\n",
              "    }\n",
              "\n",
              "    .dataframe thead th {\n",
              "        text-align: right;\n",
              "    }\n",
              "</style>\n",
              "<table border=\"1\" class=\"dataframe\">\n",
              "  <thead>\n",
              "    <tr style=\"text-align: right;\">\n",
              "      <th></th>\n",
              "      <th>estudiosnotecnicos</th>\n",
              "    </tr>\n",
              "    <tr>\n",
              "      <th>año</th>\n",
              "      <th></th>\n",
              "    </tr>\n",
              "  </thead>\n",
              "  <tbody>\n",
              "    <tr>\n",
              "      <th>2004</th>\n",
              "      <td>0</td>\n",
              "    </tr>\n",
              "    <tr>\n",
              "      <th>2005</th>\n",
              "      <td>0</td>\n",
              "    </tr>\n",
              "    <tr>\n",
              "      <th>2006</th>\n",
              "      <td>0</td>\n",
              "    </tr>\n",
              "    <tr>\n",
              "      <th>2007</th>\n",
              "      <td>0</td>\n",
              "    </tr>\n",
              "    <tr>\n",
              "      <th>2008</th>\n",
              "      <td>0</td>\n",
              "    </tr>\n",
              "    <tr>\n",
              "      <th>2009</th>\n",
              "      <td>6</td>\n",
              "    </tr>\n",
              "    <tr>\n",
              "      <th>2010</th>\n",
              "      <td>35</td>\n",
              "    </tr>\n",
              "    <tr>\n",
              "      <th>2011</th>\n",
              "      <td>312</td>\n",
              "    </tr>\n",
              "    <tr>\n",
              "      <th>2012</th>\n",
              "      <td>152</td>\n",
              "    </tr>\n",
              "    <tr>\n",
              "      <th>2013</th>\n",
              "      <td>258</td>\n",
              "    </tr>\n",
              "    <tr>\n",
              "      <th>2014</th>\n",
              "      <td>427</td>\n",
              "    </tr>\n",
              "    <tr>\n",
              "      <th>2015</th>\n",
              "      <td>413</td>\n",
              "    </tr>\n",
              "    <tr>\n",
              "      <th>2016</th>\n",
              "      <td>549</td>\n",
              "    </tr>\n",
              "    <tr>\n",
              "      <th>2017</th>\n",
              "      <td>1085</td>\n",
              "    </tr>\n",
              "    <tr>\n",
              "      <th>2018</th>\n",
              "      <td>2079</td>\n",
              "    </tr>\n",
              "    <tr>\n",
              "      <th>2019</th>\n",
              "      <td>1431</td>\n",
              "    </tr>\n",
              "    <tr>\n",
              "      <th>2020</th>\n",
              "      <td>759</td>\n",
              "    </tr>\n",
              "    <tr>\n",
              "      <th>2021</th>\n",
              "      <td>735</td>\n",
              "    </tr>\n",
              "    <tr>\n",
              "      <th>2022</th>\n",
              "      <td>17</td>\n",
              "    </tr>\n",
              "  </tbody>\n",
              "</table>\n",
              "</div>\n",
              "      <button class=\"colab-df-convert\" onclick=\"convertToInteractive('df-f5be5dc5-bf70-4afb-8d99-7b5aa55d3bdf')\"\n",
              "              title=\"Convert this dataframe to an interactive table.\"\n",
              "              style=\"display:none;\">\n",
              "        \n",
              "  <svg xmlns=\"http://www.w3.org/2000/svg\" height=\"24px\"viewBox=\"0 0 24 24\"\n",
              "       width=\"24px\">\n",
              "    <path d=\"M0 0h24v24H0V0z\" fill=\"none\"/>\n",
              "    <path d=\"M18.56 5.44l.94 2.06.94-2.06 2.06-.94-2.06-.94-.94-2.06-.94 2.06-2.06.94zm-11 1L8.5 8.5l.94-2.06 2.06-.94-2.06-.94L8.5 2.5l-.94 2.06-2.06.94zm10 10l.94 2.06.94-2.06 2.06-.94-2.06-.94-.94-2.06-.94 2.06-2.06.94z\"/><path d=\"M17.41 7.96l-1.37-1.37c-.4-.4-.92-.59-1.43-.59-.52 0-1.04.2-1.43.59L10.3 9.45l-7.72 7.72c-.78.78-.78 2.05 0 2.83L4 21.41c.39.39.9.59 1.41.59.51 0 1.02-.2 1.41-.59l7.78-7.78 2.81-2.81c.8-.78.8-2.07 0-2.86zM5.41 20L4 18.59l7.72-7.72 1.47 1.35L5.41 20z\"/>\n",
              "  </svg>\n",
              "      </button>\n",
              "      \n",
              "  <style>\n",
              "    .colab-df-container {\n",
              "      display:flex;\n",
              "      flex-wrap:wrap;\n",
              "      gap: 12px;\n",
              "    }\n",
              "\n",
              "    .colab-df-convert {\n",
              "      background-color: #E8F0FE;\n",
              "      border: none;\n",
              "      border-radius: 50%;\n",
              "      cursor: pointer;\n",
              "      display: none;\n",
              "      fill: #1967D2;\n",
              "      height: 32px;\n",
              "      padding: 0 0 0 0;\n",
              "      width: 32px;\n",
              "    }\n",
              "\n",
              "    .colab-df-convert:hover {\n",
              "      background-color: #E2EBFA;\n",
              "      box-shadow: 0px 1px 2px rgba(60, 64, 67, 0.3), 0px 1px 3px 1px rgba(60, 64, 67, 0.15);\n",
              "      fill: #174EA6;\n",
              "    }\n",
              "\n",
              "    [theme=dark] .colab-df-convert {\n",
              "      background-color: #3B4455;\n",
              "      fill: #D2E3FC;\n",
              "    }\n",
              "\n",
              "    [theme=dark] .colab-df-convert:hover {\n",
              "      background-color: #434B5C;\n",
              "      box-shadow: 0px 1px 3px 1px rgba(0, 0, 0, 0.15);\n",
              "      filter: drop-shadow(0px 1px 2px rgba(0, 0, 0, 0.3));\n",
              "      fill: #FFFFFF;\n",
              "    }\n",
              "  </style>\n",
              "\n",
              "      <script>\n",
              "        const buttonEl =\n",
              "          document.querySelector('#df-f5be5dc5-bf70-4afb-8d99-7b5aa55d3bdf button.colab-df-convert');\n",
              "        buttonEl.style.display =\n",
              "          google.colab.kernel.accessAllowed ? 'block' : 'none';\n",
              "\n",
              "        async function convertToInteractive(key) {\n",
              "          const element = document.querySelector('#df-f5be5dc5-bf70-4afb-8d99-7b5aa55d3bdf');\n",
              "          const dataTable =\n",
              "            await google.colab.kernel.invokeFunction('convertToInteractive',\n",
              "                                                     [key], {});\n",
              "          if (!dataTable) return;\n",
              "\n",
              "          const docLinkHtml = 'Like what you see? Visit the ' +\n",
              "            '<a target=\"_blank\" href=https://colab.research.google.com/notebooks/data_table.ipynb>data table notebook</a>'\n",
              "            + ' to learn more about interactive tables.';\n",
              "          element.innerHTML = '';\n",
              "          dataTable['output_type'] = 'display_data';\n",
              "          await google.colab.output.renderOutput(dataTable, element);\n",
              "          const docLink = document.createElement('div');\n",
              "          docLink.innerHTML = docLinkHtml;\n",
              "          element.appendChild(docLink);\n",
              "        }\n",
              "      </script>\n",
              "    </div>\n",
              "  </div>\n",
              "  "
            ]
          },
          "metadata": {},
          "execution_count": 35
        },
        {
          "output_type": "display_data",
          "data": {
            "text/plain": [
              "<Figure size 432x288 with 1 Axes>"
            ],
            "image/png": "[encoded data removed]"
          },
          "metadata": {
            "needs_background": "light"
          }
        }
      ],
      "source": [
        "# GRAFICA 4\n",
        "\n",
        "filtrar = grafica4.groupby(['año']).sum('estudiosnotecnicos')\n",
        "filtrar['estudiosnotecnicos'].plot(kind='bar')\n",
        "filtrar\n",
        "\n",
        "# Se grafica por año el total de estudios tecnicos\n",
        "# Se evidencia que en el año que mas estudios tecnicos se hiceron fue en el año 2018\n",
        "# Y también se observa que en los primeros años no se hicieron estudios tecnicos"
      ]
    },
    {
      "cell_type": "code",
      "execution_count": null,
      "metadata": {
        "colab": {
          "base_uri": "https://localhost:8080/",
          "height": 206
        },
        "id": "d5HWVJQ0Gc00",
        "outputId": "85244cc3-4dd7-4077-f165-7ddb5a01164c"
      },
      "outputs": [
        {
          "output_type": "execute_result",
          "data": {
            "text/plain": [
              "    año  totalartefactosdestruidos\n",
              "0  2018                        0.0\n",
              "1  2019                      148.0\n",
              "2  2020                        0.0\n",
              "3  2019                        0.0\n",
              "4  2015                        1.0"
            ],
            "text/html": [
              "\n",
              "  <div id=\"df-07dd79dc-8cdd-416a-b6af-7ab6f0e861ea\">\n",
              "    <div class=\"colab-df-container\">\n",
              "      <div>\n",
              "<style scoped>\n",
              "    .dataframe tbody tr th:only-of-type {\n",
              "        vertical-align: middle;\n",
              "    }\n",
              "\n",
              "    .dataframe tbody tr th {\n",
              "        vertical-align: top;\n",
              "    }\n",
              "\n",
              "    .dataframe thead th {\n",
              "        text-align: right;\n",
              "    }\n",
              "</style>\n",
              "<table border=\"1\" class=\"dataframe\">\n",
              "  <thead>\n",
              "    <tr style=\"text-align: right;\">\n",
              "      <th></th>\n",
              "      <th>año</th>\n",
              "      <th>totalartefactosdestruidos</th>\n",
              "    </tr>\n",
              "  </thead>\n",
              "  <tbody>\n",
              "    <tr>\n",
              "      <th>0</th>\n",
              "      <td>2018</td>\n",
              "      <td>0.0</td>\n",
              "    </tr>\n",
              "    <tr>\n",
              "      <th>1</th>\n",
              "      <td>2019</td>\n",
              "      <td>148.0</td>\n",
              "    </tr>\n",
              "    <tr>\n",
              "      <th>2</th>\n",
              "      <td>2020</td>\n",
              "      <td>0.0</td>\n",
              "    </tr>\n",
              "    <tr>\n",
              "      <th>3</th>\n",
              "      <td>2019</td>\n",
              "      <td>0.0</td>\n",
              "    </tr>\n",
              "    <tr>\n",
              "      <th>4</th>\n",
              "      <td>2015</td>\n",
              "      <td>1.0</td>\n",
              "    </tr>\n",
              "  </tbody>\n",
              "</table>\n",
              "</div>\n",
              "      <button class=\"colab-df-convert\" onclick=\"convertToInteractive('df-07dd79dc-8cdd-416a-b6af-7ab6f0e861ea')\"\n",
              "              title=\"Convert this dataframe to an interactive table.\"\n",
              "              style=\"display:none;\">\n",
              "        \n",
              "  <svg xmlns=\"http://www.w3.org/2000/svg\" height=\"24px\"viewBox=\"0 0 24 24\"\n",
              "       width=\"24px\">\n",
              "    <path d=\"M0 0h24v24H0V0z\" fill=\"none\"/>\n",
              "    <path d=\"M18.56 5.44l.94 2.06.94-2.06 2.06-.94-2.06-.94-.94-2.06-.94 2.06-2.06.94zm-11 1L8.5 8.5l.94-2.06 2.06-.94-2.06-.94L8.5 2.5l-.94 2.06-2.06.94zm10 10l.94 2.06.94-2.06 2.06-.94-2.06-.94-.94-2.06-.94 2.06-2.06.94z\"/><path d=\"M17.41 7.96l-1.37-1.37c-.4-.4-.92-.59-1.43-.59-.52 0-1.04.2-1.43.59L10.3 9.45l-7.72 7.72c-.78.78-.78 2.05 0 2.83L4 21.41c.39.39.9.59 1.41.59.51 0 1.02-.2 1.41-.59l7.78-7.78 2.81-2.81c.8-.78.8-2.07 0-2.86zM5.41 20L4 18.59l7.72-7.72 1.47 1.35L5.41 20z\"/>\n",
              "  </svg>\n",
              "      </button>\n",
              "      \n",
              "  <style>\n",
              "    .colab-df-container {\n",
              "      display:flex;\n",
              "      flex-wrap:wrap;\n",
              "      gap: 12px;\n",
              "    }\n",
              "\n",
              "    .colab-df-convert {\n",
              "      background-color: #E8F0FE;\n",
              "      border: none;\n",
              "      border-radius: 50%;\n",
              "      cursor: pointer;\n",
              "      display: none;\n",
              "      fill: #1967D2;\n",
              "      height: 32px;\n",
              "      padding: 0 0 0 0;\n",
              "      width: 32px;\n",
              "    }\n",
              "\n",
              "    .colab-df-convert:hover {\n",
              "      background-color: #E2EBFA;\n",
              "      box-shadow: 0px 1px 2px rgba(60, 64, 67, 0.3), 0px 1px 3px 1px rgba(60, 64, 67, 0.15);\n",
              "      fill: #174EA6;\n",
              "    }\n",
              "\n",
              "    [theme=dark] .colab-df-convert {\n",
              "      background-color: #3B4455;\n",
              "      fill: #D2E3FC;\n",
              "    }\n",
              "\n",
              "    [theme=dark] .colab-df-convert:hover {\n",
              "      background-color: #434B5C;\n",
              "      box-shadow: 0px 1px 3px 1px rgba(0, 0, 0, 0.15);\n",
              "      filter: drop-shadow(0px 1px 2px rgba(0, 0, 0, 0.3));\n",
              "      fill: #FFFFFF;\n",
              "    }\n",
              "  </style>\n",
              "\n",
              "      <script>\n",
              "        const buttonEl =\n",
              "          document.querySelector('#df-07dd79dc-8cdd-416a-b6af-7ab6f0e861ea button.colab-df-convert');\n",
              "        buttonEl.style.display =\n",
              "          google.colab.kernel.accessAllowed ? 'block' : 'none';\n",
              "\n",
              "        async function convertToInteractive(key) {\n",
              "          const element = document.querySelector('#df-07dd79dc-8cdd-416a-b6af-7ab6f0e861ea');\n",
              "          const dataTable =\n",
              "            await google.colab.kernel.invokeFunction('convertToInteractive',\n",
              "                                                     [key], {});\n",
              "          if (!dataTable) return;\n",
              "\n",
              "          const docLinkHtml = 'Like what you see? Visit the ' +\n",
              "            '<a target=\"_blank\" href=https://colab.research.google.com/notebooks/data_table.ipynb>data table notebook</a>'\n",
              "            + ' to learn more about interactive tables.';\n",
              "          element.innerHTML = '';\n",
              "          dataTable['output_type'] = 'display_data';\n",
              "          await google.colab.output.renderOutput(dataTable, element);\n",
              "          const docLink = document.createElement('div');\n",
              "          docLink.innerHTML = docLinkHtml;\n",
              "          element.appendChild(docLink);\n",
              "        }\n",
              "      </script>\n",
              "    </div>\n",
              "  </div>\n",
              "  "
            ]
          },
          "metadata": {},
          "execution_count": 36
        }
      ],
      "source": [
        "# Quito campos indeseados\n",
        "dataset=llenar.drop(columns=['departamento','codigodanedepartamento','municipio','codigodanemunicipio','mes','tipodesminado','areadespejada','map',\n",
        "                             'muse','aei','organizacion','estudiosnotecnicos','estudiostecnicos','operacionesdespeje','areaspeligrosas','areaspeligrosasconfirmadas'],axis=1)\n",
        "#resumen de los datos\n",
        "dataset.head()"
      ]
    },
    {
      "cell_type": "code",
      "execution_count": null,
      "metadata": {
        "colab": {
          "base_uri": "https://localhost:8080/"
        },
        "id": "ewr-bKcHGlGB",
        "outputId": "72f81654-476a-41e1-8aae-5974d798ec6a"
      },
      "outputs": [
        {
          "output_type": "stream",
          "name": "stdout",
          "text": [
            "[[2018.    0.]\n",
            " [2019.  148.]\n",
            " [2020.    0.]\n",
            " ...\n",
            " [2017.    0.]\n",
            " [2019.    0.]\n",
            " [2021.    0.]]\n"
          ]
        }
      ],
      "source": [
        "# Dividing dataset into input (X) and output (Y) variables\n",
        "Datos=np.array(dataset)\n",
        "X = Datos[:,0:2] #Entrada\n",
        "Y = Datos[:,1] #Salida\n",
        "print(X)"
      ]
    },
    {
      "cell_type": "code",
      "execution_count": null,
      "metadata": {
        "id": "m2IUs1H9GeSv"
      },
      "outputs": [],
      "source": [
        "#3. Split input and output into training and testing sets\n",
        "import sklearn\n",
        "from sklearn.model_selection import train_test_split\n",
        "X_train, X_test,Y_train, Y_test= train_test_split(X,Y,test_size=0.05)"
      ]
    },
    {
      "cell_type": "markdown",
      "source": [
        "KNN VECINOS MAS CERCANOS"
      ],
      "metadata": {
        "id": "eAazW_Z8ET_z"
      }
    },
    {
      "cell_type": "code",
      "execution_count": null,
      "metadata": {
        "colab": {
          "base_uri": "https://localhost:8080/"
        },
        "id": "KUT9eLp0OuEN",
        "outputId": "0633e150-2bb4-463b-c0a2-fa6169f87d04"
      },
      "outputs": [
        {
          "output_type": "stream",
          "name": "stdout",
          "text": [
            "0.9912280701754386\n"
          ]
        }
      ],
      "source": [
        "from sklearn.neighbors import KNeighborsClassifier\n",
        "Modelo_0 = KNeighborsClassifier(5) #\n",
        "Modelo_0.fit(X_train,Y_train)\n",
        "Y_pred_0 =Modelo_0.predict (X_test)\n",
        "# calculando desempeño (Exactitud)\n",
        "from sklearn.metrics import accuracy_score,precision_score\n",
        "\n",
        "precisiónv=accuracy_score(Y_test, Y_pred_0)\n",
        "print(precisiónv)"
      ]
    },
    {
      "cell_type": "markdown",
      "source": [
        "BAYES"
      ],
      "metadata": {
        "id": "vcUNd4qJEH8t"
      }
    },
    {
      "cell_type": "code",
      "source": [
        "from sklearn.naive_bayes import GaussianNB\n",
        "Modelo_1 = GaussianNB()\n",
        "Modelo_1.fit(X_train, Y_train)\n",
        "Y_pred =Modelo_1.predict (X_test)\n",
        "from sklearn.metrics import accuracy_score,precision_score\n",
        "\n",
        "precisiónB=accuracy_score(Y_test, Y_pred_0)\n",
        "print(precisiónB)"
      ],
      "metadata": {
        "colab": {
          "base_uri": "https://localhost:8080/"
        },
        "id": "mfLDN3JpDiP7",
        "outputId": "e2744915-edb8-481e-b7e8-301799571268"
      },
      "execution_count": null,
      "outputs": [
        {
          "output_type": "stream",
          "name": "stdout",
          "text": [
            "0.9912280701754386\n"
          ]
        }
      ]
    },
    {
      "cell_type": "markdown",
      "source": [
        "LDA"
      ],
      "metadata": {
        "id": "c4M2JrYIFCGc"
      }
    },
    {
      "cell_type": "code",
      "source": [
        "from sklearn.discriminant_analysis import LinearDiscriminantAnalysis\n",
        "Modelo_2 = LinearDiscriminantAnalysis()\n",
        "Modelo_2.fit(X_train, Y_train)\n",
        "Y_pred_2 =Modelo_2.predict (X_test)\n",
        "from sklearn.metrics import accuracy_score,precision_score\n",
        "\n",
        "precisiónlda=accuracy_score(Y_test, Y_pred_0)\n",
        "print(precisiónlda)"
      ],
      "metadata": {
        "colab": {
          "base_uri": "https://localhost:8080/"
        },
        "id": "RkSmJxrWFCRT",
        "outputId": "76edf676-a72c-4127-f483-f0dcc4857942"
      },
      "execution_count": null,
      "outputs": [
        {
          "output_type": "stream",
          "name": "stdout",
          "text": [
            "0.9912280701754386\n"
          ]
        }
      ]
    },
    {
      "cell_type": "markdown",
      "source": [
        "TREE"
      ],
      "metadata": {
        "id": "8EzuTjlJFjxr"
      }
    },
    {
      "cell_type": "code",
      "source": [
        "from sklearn.tree import DecisionTreeClassifier\n",
        "Modelo_4 = DecisionTreeClassifier()\n",
        "Modelo_4.fit(X_train, Y_train)\n",
        "Y_pred_4 =Modelo_4.predict (X_test)\n",
        "from sklearn.metrics import accuracy_score,precision_score\n",
        "\n",
        "precisióntree=accuracy_score(Y_test, Y_pred_0)\n",
        "print(precisióntree)"
      ],
      "metadata": {
        "colab": {
          "base_uri": "https://localhost:8080/"
        },
        "id": "NXXeOwBsF7XG",
        "outputId": "40602822-06b3-4a85-d7f6-2ec503a6d501"
      },
      "execution_count": null,
      "outputs": [
        {
          "output_type": "stream",
          "name": "stdout",
          "text": [
            "0.9912280701754386\n"
          ]
        }
      ]
    },
    {
      "cell_type": "markdown",
      "source": [
        "SVM"
      ],
      "metadata": {
        "id": "DtOIKIixGens"
      }
    },
    {
      "cell_type": "code",
      "source": [
        "from sklearn.svm import SVC\n",
        "Modelo_5 = SVC()\n",
        "Modelo_5.fit(X_train, Y_train)\n",
        "Y_pred_5 =Modelo_5.predict (X_test)\n",
        "from sklearn.metrics import accuracy_score,precision_score\n",
        "\n",
        "precisiónsvc=accuracy_score(Y_test, Y_pred_0)\n",
        "print(precisiónsvc)"
      ],
      "metadata": {
        "colab": {
          "base_uri": "https://localhost:8080/"
        },
        "id": "FLBne2Z6Gfpb",
        "outputId": "651ddfdd-2dc4-438f-cc7e-ee22c64c439a"
      },
      "execution_count": null,
      "outputs": [
        {
          "output_type": "stream",
          "name": "stdout",
          "text": [
            "0.9912280701754386\n"
          ]
        }
      ]
    },
    {
      "cell_type": "code",
      "execution_count": null,
      "metadata": {
        "id": "9cw8XP0gV2Zo",
        "colab": {
          "base_uri": "https://localhost:8080/"
        },
        "outputId": "33625e82-e317-4c08-e7bd-6a725881dc4d"
      },
      "outputs": [
        {
          "name": "stdout",
          "output_type": "stream",
          "text": [
            "fue desminado: marque 1 para SI, 2 para NO\n",
            "1\n",
            "año de desminado: marque 1 si el año es 2004 o superior , 2 para ninguno\n",
            "1\n"
          ]
        }
      ],
      "source": [
        "# Cargando datos de un usuario nuevo\n",
        "X_new = np.zeros((1,2))\n",
        "X_new[0,0]=int(input('fue desminado: marque 1 para SI, 2 para NO\\n'))\n",
        "X_new[0,1]=int(input('año de desminado: marque 1 si el año es 2004 o superior , 2 para ninguno\\n'))"
      ]
    },
    {
      "cell_type": "code",
      "execution_count": null,
      "metadata": {
        "id": "c8r-805kX91Q",
        "colab": {
          "base_uri": "https://localhost:8080/"
        },
        "outputId": "40da5349-1fe7-4ce3-cab4-7f1e6b4912b1"
      },
      "outputs": [
        {
          "output_type": "stream",
          "name": "stdout",
          "text": [
            "Posiblemente fue:  Desminado , esto con una probabilidad del:  96.9298245614035 porciento\n"
          ]
        }
      ],
      "source": [
        "# =================Realizando la predicción coon modelo entrenado============\n",
        "prediction = Modelo_0.predict(X_new)\n",
        "if prediction ==1:\n",
        "  Diagnostico = 'Nodesminado'\n",
        "else:\n",
        "  Diagnostico = 'Desminado'\n",
        "\n",
        "print(\"Posiblemente fue: \",Diagnostico, ', esto con una probabilidad del: ',precisiónv*100, 'porciento')"
      ]
    },
    {
      "cell_type": "code",
      "execution_count": null,
      "metadata": {
        "id": "STDOBYsGP-bF"
      },
      "outputs": [],
      "source": []
    }
  ],
  "metadata": {
    "colab": {
      "provenance": [],
      "include_colab_link": true
    },
    "kernelspec": {
      "display_name": "Python 3",
      "name": "python3"
    },
    "language_info": {
      "name": "python"
    }
  },
  "nbformat": 4,
  "nbformat_minor": 0
}